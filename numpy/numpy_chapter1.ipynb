{
  "nbformat": 4,
  "nbformat_minor": 0,
  "metadata": {
    "colab": {
      "provenance": []
    },
    "kernelspec": {
      "name": "python3",
      "display_name": "Python 3"
    },
    "language_info": {
      "name": "python"
    }
  },
  "cells": [
    {
      "cell_type": "markdown",
      "source": [
        "**Numpy creating arrays chapter 1**"
      ],
      "metadata": {
        "id": "Aosc93Di83QR"
      }
    },
    {
      "cell_type": "markdown",
      "source": [
        "*version, np.arange, reshape, empty, eye, identity, ones, zeros, ones_like, zeros_like, full, full_like, hstack, vstack, concatenate*\n",
        "\n",
        "\n"
      ],
      "metadata": {
        "id": "cUHtKOAB9DNg"
      }
    },
    {
      "cell_type": "code",
      "execution_count": 13,
      "metadata": {
        "colab": {
          "base_uri": "https://localhost:8080/"
        },
        "id": "804JA6MiwKqd",
        "outputId": "dcb3ceda-123c-4d2d-cd48-a1629796ac6f"
      },
      "outputs": [
        {
          "output_type": "stream",
          "name": "stdout",
          "text": [
            "1.21.6\n"
          ]
        }
      ],
      "source": [
        "import numpy as np\n",
        "print(np.__version__)"
      ]
    },
    {
      "cell_type": "markdown",
      "source": [],
      "metadata": {
        "id": "d02wgUmP9ByV"
      }
    },
    {
      "cell_type": "code",
      "source": [
        "a=np.array([0,1,2,3])\n",
        "print(a)"
      ],
      "metadata": {
        "colab": {
          "base_uri": "https://localhost:8080/"
        },
        "id": "zU0yVI5pwOGP",
        "outputId": "d310aeb8-8b22-461d-a851-0d5731239365"
      },
      "execution_count": 2,
      "outputs": [
        {
          "output_type": "stream",
          "name": "stdout",
          "text": [
            "[0 1 2 3]\n"
          ]
        }
      ]
    },
    {
      "cell_type": "code",
      "source": [
        "a=np.arange(0,100)\n",
        "print(a)"
      ],
      "metadata": {
        "colab": {
          "base_uri": "https://localhost:8080/"
        },
        "id": "aiLwyUJTwiiJ",
        "outputId": "8fd4ef27-eb11-4305-b4ab-6a872166a235"
      },
      "execution_count": 7,
      "outputs": [
        {
          "output_type": "stream",
          "name": "stdout",
          "text": [
            "[ 0  1  2  3  4  5  6  7  8  9 10 11 12 13 14 15 16 17 18 19 20 21 22 23\n",
            " 24 25 26 27 28 29 30 31 32 33 34 35 36 37 38 39 40 41 42 43 44 45 46 47\n",
            " 48 49 50 51 52 53 54 55 56 57 58 59 60 61 62 63 64 65 66 67 68 69 70 71\n",
            " 72 73 74 75 76 77 78 79 80 81 82 83 84 85 86 87 88 89 90 91 92 93 94 95\n",
            " 96 97 98 99]\n"
          ]
        }
      ]
    },
    {
      "cell_type": "code",
      "source": [
        "a=np.arange(0,100).reshape(5,20)\n",
        "print(a)"
      ],
      "metadata": {
        "colab": {
          "base_uri": "https://localhost:8080/"
        },
        "id": "iuUC3CVdwil_",
        "outputId": "0e06ab39-e240-4ad7-ab45-e848e45e7263"
      },
      "execution_count": 8,
      "outputs": [
        {
          "output_type": "stream",
          "name": "stdout",
          "text": [
            "[[ 0  1  2  3  4  5  6  7  8  9 10 11 12 13 14 15 16 17 18 19]\n",
            " [20 21 22 23 24 25 26 27 28 29 30 31 32 33 34 35 36 37 38 39]\n",
            " [40 41 42 43 44 45 46 47 48 49 50 51 52 53 54 55 56 57 58 59]\n",
            " [60 61 62 63 64 65 66 67 68 69 70 71 72 73 74 75 76 77 78 79]\n",
            " [80 81 82 83 84 85 86 87 88 89 90 91 92 93 94 95 96 97 98 99]]\n"
          ]
        }
      ]
    },
    {
      "cell_type": "code",
      "source": [
        "a=np.arange(1,10,dtype='float')\n",
        "print(a)\n",
        "print(a.dtype)"
      ],
      "metadata": {
        "colab": {
          "base_uri": "https://localhost:8080/"
        },
        "id": "QY76DmTnwiqh",
        "outputId": "3b7b3085-9ca3-4c7f-9b48-140e41a023f9"
      },
      "execution_count": 12,
      "outputs": [
        {
          "output_type": "stream",
          "name": "stdout",
          "text": [
            "[1. 2. 3. 4. 5. 6. 7. 8. 9.]\n",
            "float64\n"
          ]
        }
      ]
    },
    {
      "cell_type": "code",
      "source": [
        "a=np.arange(0,100,2,dtype='int8')\n",
        "print(a)"
      ],
      "metadata": {
        "colab": {
          "base_uri": "https://localhost:8080/"
        },
        "id": "945RBv-gwiuy",
        "outputId": "c04b0f71-835d-4d83-d78e-ebe5e5049c2f"
      },
      "execution_count": 14,
      "outputs": [
        {
          "output_type": "stream",
          "name": "stdout",
          "text": [
            "[ 0  2  4  6  8 10 12 14 16 18 20 22 24 26 28 30 32 34 36 38 40 42 44 46\n",
            " 48 50 52 54 56 58 60 62 64 66 68 70 72 74 76 78 80 82 84 86 88 90 92 94\n",
            " 96 98]\n"
          ]
        }
      ]
    },
    {
      "cell_type": "code",
      "source": [
        "a=np.empty((2,3),dtype='int32')\n",
        "print(a)"
      ],
      "metadata": {
        "colab": {
          "base_uri": "https://localhost:8080/"
        },
        "id": "d_kMV7J5wixz",
        "outputId": "1e89c7d4-fe7f-450c-c267-8acfcb12261f"
      },
      "execution_count": 17,
      "outputs": [
        {
          "output_type": "stream",
          "name": "stdout",
          "text": [
            "[[         0 1072168960          0]\n",
            " [1072168960          0          0]]\n"
          ]
        }
      ]
    },
    {
      "cell_type": "code",
      "source": [
        "b=np.empty_like(a,dtype='float64')\n",
        "print(b)"
      ],
      "metadata": {
        "colab": {
          "base_uri": "https://localhost:8080/"
        },
        "id": "0LpHHHkWwi0N",
        "outputId": "08e68f74-d715-4e61-8515-47714a96db25"
      },
      "execution_count": 19,
      "outputs": [
        {
          "output_type": "stream",
          "name": "stdout",
          "text": [
            "[[3.2033691e-316 0.0000000e+000 0.0000000e+000]\n",
            " [0.0000000e+000 0.0000000e+000 0.0000000e+000]]\n"
          ]
        }
      ]
    },
    {
      "cell_type": "code",
      "source": [
        "onediagonal=np.eye(3,4)\n",
        "print(onediagonal)"
      ],
      "metadata": {
        "colab": {
          "base_uri": "https://localhost:8080/"
        },
        "id": "L6V2TCuDyhhN",
        "outputId": "ef859511-907b-4475-ad15-cc7ac5e57960"
      },
      "execution_count": 24,
      "outputs": [
        {
          "output_type": "stream",
          "name": "stdout",
          "text": [
            "[[1. 0. 0. 0.]\n",
            " [0. 1. 0. 0.]\n",
            " [0. 0. 1. 0.]]\n"
          ]
        }
      ]
    },
    {
      "cell_type": "code",
      "source": [
        "onediagonal=np.eye(4,5,k=2)\n",
        "print(onediagonal)"
      ],
      "metadata": {
        "colab": {
          "base_uri": "https://localhost:8080/"
        },
        "id": "O8Sb9N-ezL5Q",
        "outputId": "b52cf540-b6d1-4a66-af8e-789539cb2c1b"
      },
      "execution_count": 25,
      "outputs": [
        {
          "output_type": "stream",
          "name": "stdout",
          "text": [
            "[[0. 0. 1. 0. 0.]\n",
            " [0. 0. 0. 1. 0.]\n",
            " [0. 0. 0. 0. 1.]\n",
            " [0. 0. 0. 0. 0.]]\n"
          ]
        }
      ]
    },
    {
      "cell_type": "code",
      "source": [
        "identity=np.identity(4)\n",
        "print(identity)"
      ],
      "metadata": {
        "colab": {
          "base_uri": "https://localhost:8080/"
        },
        "id": "EN6dqX9Vzck_",
        "outputId": "60a6825b-affb-4991-acc5-b632fc1948f1"
      },
      "execution_count": 26,
      "outputs": [
        {
          "output_type": "stream",
          "name": "stdout",
          "text": [
            "[[1. 0. 0. 0.]\n",
            " [0. 1. 0. 0.]\n",
            " [0. 0. 1. 0.]\n",
            " [0. 0. 0. 1.]]\n"
          ]
        }
      ]
    },
    {
      "cell_type": "code",
      "source": [
        "ones=np.ones((2,3))\n",
        "print(ones)"
      ],
      "metadata": {
        "colab": {
          "base_uri": "https://localhost:8080/"
        },
        "id": "HyPymVaAzlkV",
        "outputId": "982f4aec-c0bd-40f1-efe1-64885a90896b"
      },
      "execution_count": 30,
      "outputs": [
        {
          "output_type": "stream",
          "name": "stdout",
          "text": [
            "[[ True  True  True]\n",
            " [ True  True  True]]\n"
          ]
        }
      ]
    },
    {
      "cell_type": "code",
      "source": [
        "truth=np.ones(ones.shape,dtype='bool')\n",
        "print(truth)"
      ],
      "metadata": {
        "colab": {
          "base_uri": "https://localhost:8080/"
        },
        "id": "DhcSvFDPz-3i",
        "outputId": "3799e875-813a-4579-8969-c5ec1e0727a8"
      },
      "execution_count": 31,
      "outputs": [
        {
          "output_type": "stream",
          "name": "stdout",
          "text": [
            "[[ True  True  True]\n",
            " [ True  True  True]]\n"
          ]
        }
      ]
    },
    {
      "cell_type": "code",
      "source": [
        "zero=np.zeros(truth.shape,dtype='int32')\n",
        "print(zero)"
      ],
      "metadata": {
        "colab": {
          "base_uri": "https://localhost:8080/"
        },
        "id": "aDnxSqn80UoY",
        "outputId": "54ba37ec-b556-44c3-a16e-315bc544238f"
      },
      "execution_count": 33,
      "outputs": [
        {
          "output_type": "stream",
          "name": "stdout",
          "text": [
            "[[0 0 0]\n",
            " [0 0 0]]\n"
          ]
        }
      ]
    },
    {
      "cell_type": "code",
      "source": [
        "false=np.zeros(zero.shape,dtype='bool')\n",
        "print(false)"
      ],
      "metadata": {
        "colab": {
          "base_uri": "https://localhost:8080/"
        },
        "id": "yVG1X3RM0b4u",
        "outputId": "2d603d10-f0a5-4235-e126-5abf42f0a0b7"
      },
      "execution_count": 34,
      "outputs": [
        {
          "output_type": "stream",
          "name": "stdout",
          "text": [
            "[[False False False]\n",
            " [False False False]]\n"
          ]
        }
      ]
    },
    {
      "cell_type": "code",
      "source": [
        "zeros=np.zeros_like(zero,dtype='int64')\n",
        "print(zeros)"
      ],
      "metadata": {
        "colab": {
          "base_uri": "https://localhost:8080/"
        },
        "id": "A7U-kzZ60lky",
        "outputId": "34675e78-f44f-4f9e-d750-ff89c464e23e"
      },
      "execution_count": 35,
      "outputs": [
        {
          "output_type": "stream",
          "name": "stdout",
          "text": [
            "[[0 0 0]\n",
            " [0 0 0]]\n"
          ]
        }
      ]
    },
    {
      "cell_type": "code",
      "source": [
        "fill=np.full_like(zeros,4,dtype='int32')\n",
        "print(fill)"
      ],
      "metadata": {
        "colab": {
          "base_uri": "https://localhost:8080/"
        },
        "id": "j68WOb4d03b_",
        "outputId": "d576c654-58d9-4905-b786-fbc9b6ec859b"
      },
      "execution_count": 36,
      "outputs": [
        {
          "output_type": "stream",
          "name": "stdout",
          "text": [
            "[[4 4 4]\n",
            " [4 4 4]]\n"
          ]
        }
      ]
    },
    {
      "cell_type": "code",
      "source": [
        "fill=np.full((4,5),np.random.randint(10,100),dtype='int32')\n",
        "print(fill)"
      ],
      "metadata": {
        "colab": {
          "base_uri": "https://localhost:8080/"
        },
        "id": "jU9VND251Ek2",
        "outputId": "d1f3472b-f8d5-4038-c5ff-886595925264"
      },
      "execution_count": 43,
      "outputs": [
        {
          "output_type": "stream",
          "name": "stdout",
          "text": [
            "[[31 31 31 31 31]\n",
            " [31 31 31 31 31]\n",
            " [31 31 31 31 31]\n",
            " [31 31 31 31 31]]\n"
          ]
        }
      ]
    },
    {
      "cell_type": "code",
      "source": [
        "fill=np.full((100,),4)\n",
        "print(fill)\n"
      ],
      "metadata": {
        "colab": {
          "base_uri": "https://localhost:8080/"
        },
        "id": "yT7_Bq9i1SJ8",
        "outputId": "61bfdf30-97ef-4181-f415-65a816287778"
      },
      "execution_count": 46,
      "outputs": [
        {
          "output_type": "stream",
          "name": "stdout",
          "text": [
            "[4 4 4 4 4 4 4 4 4 4 4 4 4 4 4 4 4 4 4 4 4 4 4 4 4 4 4 4 4 4 4 4 4 4 4 4 4\n",
            " 4 4 4 4 4 4 4 4 4 4 4 4 4 4 4 4 4 4 4 4 4 4 4 4 4 4 4 4 4 4 4 4 4 4 4 4 4\n",
            " 4 4 4 4 4 4 4 4 4 4 4 4 4 4 4 4 4 4 4 4 4 4 4 4 4 4]\n"
          ]
        }
      ]
    },
    {
      "cell_type": "code",
      "source": [
        "fill=fill.reshape(10,10)\n",
        "print(fill)"
      ],
      "metadata": {
        "colab": {
          "base_uri": "https://localhost:8080/"
        },
        "id": "5vJZAArN19oU",
        "outputId": "1fd2cd4b-48e7-4e60-c1c6-872b8eb764a1"
      },
      "execution_count": 48,
      "outputs": [
        {
          "output_type": "stream",
          "name": "stdout",
          "text": [
            "[[4 4 4 4 4 4 4 4 4 4]\n",
            " [4 4 4 4 4 4 4 4 4 4]\n",
            " [4 4 4 4 4 4 4 4 4 4]\n",
            " [4 4 4 4 4 4 4 4 4 4]\n",
            " [4 4 4 4 4 4 4 4 4 4]\n",
            " [4 4 4 4 4 4 4 4 4 4]\n",
            " [4 4 4 4 4 4 4 4 4 4]\n",
            " [4 4 4 4 4 4 4 4 4 4]\n",
            " [4 4 4 4 4 4 4 4 4 4]\n",
            " [4 4 4 4 4 4 4 4 4 4]]\n"
          ]
        }
      ]
    },
    {
      "cell_type": "code",
      "source": [
        "fill[:,-2:-1]=8\n",
        "print(fill)"
      ],
      "metadata": {
        "colab": {
          "base_uri": "https://localhost:8080/"
        },
        "id": "uWyfHHWW2GWK",
        "outputId": "b05a3106-55bf-4f37-d6e8-d65d55822ead"
      },
      "execution_count": 57,
      "outputs": [
        {
          "output_type": "stream",
          "name": "stdout",
          "text": [
            "[[4 4 4 4 4 4 4 4 8 4]\n",
            " [4 4 4 4 4 4 4 4 8 4]\n",
            " [4 4 4 4 4 4 4 4 8 4]\n",
            " [4 4 4 4 4 4 4 4 8 4]\n",
            " [4 4 4 4 4 4 4 4 8 4]\n",
            " [4 4 4 4 4 4 4 4 8 4]\n",
            " [4 4 4 4 4 4 4 4 8 4]\n",
            " [4 4 4 4 4 4 4 4 8 4]\n",
            " [4 4 4 4 4 4 4 4 8 4]\n",
            " [4 4 4 4 4 4 4 4 8 4]]\n"
          ]
        }
      ]
    },
    {
      "cell_type": "code",
      "source": [
        "fill[:,-1:]=9\n",
        "print(fill)\n"
      ],
      "metadata": {
        "colab": {
          "base_uri": "https://localhost:8080/"
        },
        "id": "LI53MPRB2VW3",
        "outputId": "8b4fd7fb-b8dd-442b-9704-61c171a38859"
      },
      "execution_count": 66,
      "outputs": [
        {
          "output_type": "stream",
          "name": "stdout",
          "text": [
            "[[0 4 4 4 4 4 4 4 8 9]\n",
            " [0 4 4 4 4 4 4 4 8 9]\n",
            " [0 4 4 4 4 4 4 4 8 9]\n",
            " [0 4 4 4 4 4 4 4 8 9]\n",
            " [0 4 4 4 4 4 4 4 8 9]\n",
            " [0 4 4 4 4 4 4 4 8 9]\n",
            " [0 4 4 4 4 4 4 4 8 9]\n",
            " [0 4 4 4 4 4 4 4 8 9]\n",
            " [0 4 4 4 4 4 4 4 8 9]\n",
            " [0 4 4 4 4 4 4 4 8 9]]\n"
          ]
        }
      ]
    },
    {
      "cell_type": "code",
      "source": [
        "fill[:,0:1]-=4\n",
        "print(fill)"
      ],
      "metadata": {
        "colab": {
          "base_uri": "https://localhost:8080/"
        },
        "id": "pt26FSIf2zcx",
        "outputId": "27b2130f-3642-4bfe-f78e-f47d7014a543"
      },
      "execution_count": 67,
      "outputs": [
        {
          "output_type": "stream",
          "name": "stdout",
          "text": [
            "[[-4  4  4  4  4  4  4  4  8  9]\n",
            " [-4  4  4  4  4  4  4  4  8  9]\n",
            " [-4  4  4  4  4  4  4  4  8  9]\n",
            " [-4  4  4  4  4  4  4  4  8  9]\n",
            " [-4  4  4  4  4  4  4  4  8  9]\n",
            " [-4  4  4  4  4  4  4  4  8  9]\n",
            " [-4  4  4  4  4  4  4  4  8  9]\n",
            " [-4  4  4  4  4  4  4  4  8  9]\n",
            " [-4  4  4  4  4  4  4  4  8  9]\n",
            " [-4  4  4  4  4  4  4  4  8  9]]\n"
          ]
        }
      ]
    },
    {
      "cell_type": "code",
      "source": [
        "zero=np.zeros((5),dtype='int32')\n",
        "print(zero)\n",
        "print(\"size\",zero.size,len(zero),\" shape:\", zero.shape)\n",
        "zero=np.concatenate((zero,np.array([3])))\n",
        "zero=zero.reshape(2,3)\n",
        "print(zero)"
      ],
      "metadata": {
        "colab": {
          "base_uri": "https://localhost:8080/"
        },
        "id": "GBF55gT53Z1Y",
        "outputId": "6a452208-0f33-4d7d-8b53-9998fb800051"
      },
      "execution_count": 101,
      "outputs": [
        {
          "output_type": "stream",
          "name": "stdout",
          "text": [
            "[0 0 0 0 0]\n",
            "size 5 5  shape: (5,)\n",
            "[[0 0 0]\n",
            " [0 0 3]]\n"
          ]
        }
      ]
    },
    {
      "cell_type": "code",
      "source": [
        "n=np.ones((2,3),dtype='int32')\n",
        "n=np.hstack((zero,n))\n",
        "print(n)"
      ],
      "metadata": {
        "colab": {
          "base_uri": "https://localhost:8080/"
        },
        "id": "2Zbzhswq4Mzb",
        "outputId": "98ea3bbd-7851-4316-e6dd-636545b147ad"
      },
      "execution_count": 103,
      "outputs": [
        {
          "output_type": "stream",
          "name": "stdout",
          "text": [
            "[[0 0 0 1 1 1]\n",
            " [0 0 3 1 1 1]]\n"
          ]
        }
      ]
    },
    {
      "cell_type": "code",
      "source": [
        "n=np.vstack((n,n))\n",
        "print(n)"
      ],
      "metadata": {
        "colab": {
          "base_uri": "https://localhost:8080/"
        },
        "id": "XdkWxAwy7YlC",
        "outputId": "1717adb0-5ab8-4894-dcda-bdae5108eff5"
      },
      "execution_count": 105,
      "outputs": [
        {
          "output_type": "stream",
          "name": "stdout",
          "text": [
            "[[0 0 0 1 1 1]\n",
            " [0 0 3 1 1 1]\n",
            " [0 0 0 1 1 1]\n",
            " [0 0 3 1 1 1]]\n"
          ]
        }
      ]
    },
    {
      "cell_type": "code",
      "source": [
        "n=np.ones((2,3),dtype='int32')\n",
        "n=np.concatenate((zero,n),axis=1)\n",
        "print(n)"
      ],
      "metadata": {
        "colab": {
          "base_uri": "https://localhost:8080/"
        },
        "id": "OD8mW79V7krT",
        "outputId": "9bd20de5-7a64-4f6e-aadf-798b172f7578"
      },
      "execution_count": 108,
      "outputs": [
        {
          "output_type": "stream",
          "name": "stdout",
          "text": [
            "[[0 0 0 1 1 1]\n",
            " [0 0 3 1 1 1]]\n"
          ]
        }
      ]
    },
    {
      "cell_type": "code",
      "source": [
        "n=np.concatenate((n,n),axis=0)\n",
        "print(n)"
      ],
      "metadata": {
        "colab": {
          "base_uri": "https://localhost:8080/"
        },
        "id": "r_AvMsHS7xD2",
        "outputId": "0b08b662-674e-41b9-db45-7c73753b3d85"
      },
      "execution_count": 110,
      "outputs": [
        {
          "output_type": "stream",
          "name": "stdout",
          "text": [
            "[[0 0 0 1 1 1]\n",
            " [0 0 3 1 1 1]\n",
            " [0 0 0 1 1 1]\n",
            " [0 0 3 1 1 1]]\n"
          ]
        }
      ]
    },
    {
      "cell_type": "code",
      "source": [],
      "metadata": {
        "id": "wwp9mLwb8Ce0"
      },
      "execution_count": null,
      "outputs": []
    }
  ]
}